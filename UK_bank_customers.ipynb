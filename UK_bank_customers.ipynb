{
 "cells": [
  {
   "cell_type": "markdown",
   "metadata": {},
   "source": [
    "# Zbiór danych klientów banku w UK"
   ]
  },
  {
   "cell_type": "markdown",
   "metadata": {},
   "source": [
    "## W tym projekcie naszym celem jest analiza danych z interaktywną wizualizacją zbioru danych klientów banku w UK."
   ]
  },
  {
   "cell_type": "markdown",
   "metadata": {},
   "source": [
    "### Kolejnymi krokami projektu będą:\n",
    "1. Prezentacja danych ze statystykami oraz charakterystyką zależności w zbiorze\n",
    "2. Czyszczenie danych w razie konieczności oraz dostosowanie formatu danych do późniejszej analizy\n",
    "3. Przedstawienie wykresów dla zbioru danych potrzebnych do późniejszych wizualizacji i uczenia maszynowego\n",
    "4. Podział zbioru na dane wejściowe i wyjściowe.\n",
    "5. Utworzenie modelu dla algorytmów uczenia maszynowego i określenie dokładności\n",
    "6. Wykorzystanie interaktywnych elementów w wizualizacji\n",
    "7. Storytelling z wizualizacją"
   ]
  },
  {
   "cell_type": "markdown",
   "metadata": {},
   "source": [
    "### Importowanie bibliotek"
   ]
  },
  {
   "cell_type": "code",
   "execution_count": 1,
   "metadata": {
    "scrolled": true
   },
   "outputs": [],
   "source": [
    "import pandas as pd\n",
    "import numpy as np\n",
    "import matplotlib.pyplot as plt\n",
    "import squarify\n",
    "import plotly.graph_objects as go\n",
    "import seaborn as sns; sns.set(color_codes=True)  # visualization tool\n",
    "\n",
    "from sklearn.linear_model import LinearRegression\n",
    "from sklearn.tree import DecisionTreeClassifier\n",
    "from sklearn.model_selection import train_test_split\n",
    "from sklearn.metrics import accuracy_score\n",
    "from sklearn.metrics import mean_absolute_error as mae\n",
    "import ipywidgets as widgets\n",
    "import warnings\n",
    "warnings.simplefilter(action='ignore', category=FutureWarning)"
   ]
  },
  {
   "cell_type": "markdown",
   "metadata": {},
   "source": [
    "### 1. Prezentacja danych ze statystykami oraz charakterystyką zależności w zbiorze"
   ]
  },
  {
   "cell_type": "markdown",
   "metadata": {},
   "source": [
    "Wczytanie zbioru danych oraz inforamcja o ilości wierszy i kolumn."
   ]
  },
  {
   "cell_type": "code",
   "execution_count": 2,
   "metadata": {},
   "outputs": [
    {
     "data": {
      "text/plain": [
       "(4012, 9)"
      ]
     },
     "execution_count": 2,
     "metadata": {},
     "output_type": "execute_result"
    }
   ],
   "source": [
    "df = pd.read_csv('UK-Bank-Customers.csv', sep=';')\n",
    "df.shape"
   ]
  },
  {
   "cell_type": "markdown",
   "metadata": {},
   "source": [
    "Nazwa kolumn w zbiorze oraz pierwsze 10 rekordów"
   ]
  },
  {
   "cell_type": "code",
   "execution_count": 3,
   "metadata": {},
   "outputs": [
    {
     "data": {
      "text/plain": [
       "Index(['Customer ID', 'Name', 'Surname', 'Gender', 'Age', 'Region',\n",
       "       'Job Classification', 'Date Joined', 'Balance'],\n",
       "      dtype='object')"
      ]
     },
     "execution_count": 3,
     "metadata": {},
     "output_type": "execute_result"
    }
   ],
   "source": [
    "df.columns"
   ]
  },
  {
   "cell_type": "code",
   "execution_count": 4,
   "metadata": {},
   "outputs": [
    {
     "data": {
      "text/html": [
       "<div>\n",
       "<style scoped>\n",
       "    .dataframe tbody tr th:only-of-type {\n",
       "        vertical-align: middle;\n",
       "    }\n",
       "\n",
       "    .dataframe tbody tr th {\n",
       "        vertical-align: top;\n",
       "    }\n",
       "\n",
       "    .dataframe thead th {\n",
       "        text-align: right;\n",
       "    }\n",
       "</style>\n",
       "<table border=\"1\" class=\"dataframe\">\n",
       "  <thead>\n",
       "    <tr style=\"text-align: right;\">\n",
       "      <th></th>\n",
       "      <th>Customer ID</th>\n",
       "      <th>Name</th>\n",
       "      <th>Surname</th>\n",
       "      <th>Gender</th>\n",
       "      <th>Age</th>\n",
       "      <th>Region</th>\n",
       "      <th>Job Classification</th>\n",
       "      <th>Date Joined</th>\n",
       "      <th>Balance</th>\n",
       "    </tr>\n",
       "  </thead>\n",
       "  <tbody>\n",
       "    <tr>\n",
       "      <th>0</th>\n",
       "      <td>100000001</td>\n",
       "      <td>Simon</td>\n",
       "      <td>Walsh</td>\n",
       "      <td>Male</td>\n",
       "      <td>21</td>\n",
       "      <td>England</td>\n",
       "      <td>White Collar</td>\n",
       "      <td>05.01.2015</td>\n",
       "      <td>113810.15</td>\n",
       "    </tr>\n",
       "    <tr>\n",
       "      <th>1</th>\n",
       "      <td>400000002</td>\n",
       "      <td>Jasmine</td>\n",
       "      <td>Miller</td>\n",
       "      <td>Female</td>\n",
       "      <td>34</td>\n",
       "      <td>Northern Ireland</td>\n",
       "      <td>Blue Collar</td>\n",
       "      <td>06.01.2015</td>\n",
       "      <td>36919.73</td>\n",
       "    </tr>\n",
       "    <tr>\n",
       "      <th>2</th>\n",
       "      <td>100000003</td>\n",
       "      <td>Liam</td>\n",
       "      <td>Brown</td>\n",
       "      <td>Male</td>\n",
       "      <td>46</td>\n",
       "      <td>England</td>\n",
       "      <td>White Collar</td>\n",
       "      <td>07.01.2015</td>\n",
       "      <td>101536.83</td>\n",
       "    </tr>\n",
       "    <tr>\n",
       "      <th>3</th>\n",
       "      <td>300000004</td>\n",
       "      <td>Trevor</td>\n",
       "      <td>Parr</td>\n",
       "      <td>Male</td>\n",
       "      <td>32</td>\n",
       "      <td>Wales</td>\n",
       "      <td>White Collar</td>\n",
       "      <td>08.01.2015</td>\n",
       "      <td>1421.52</td>\n",
       "    </tr>\n",
       "    <tr>\n",
       "      <th>4</th>\n",
       "      <td>100000005</td>\n",
       "      <td>Deirdre</td>\n",
       "      <td>Pullman</td>\n",
       "      <td>Female</td>\n",
       "      <td>38</td>\n",
       "      <td>England</td>\n",
       "      <td>Blue Collar</td>\n",
       "      <td>09.01.2015</td>\n",
       "      <td>35639.79</td>\n",
       "    </tr>\n",
       "    <tr>\n",
       "      <th>5</th>\n",
       "      <td>300000006</td>\n",
       "      <td>Ava</td>\n",
       "      <td>Coleman</td>\n",
       "      <td>Female</td>\n",
       "      <td>30</td>\n",
       "      <td>Wales</td>\n",
       "      <td>Blue Collar</td>\n",
       "      <td>09.01.2015</td>\n",
       "      <td>122443.77</td>\n",
       "    </tr>\n",
       "    <tr>\n",
       "      <th>6</th>\n",
       "      <td>100000007</td>\n",
       "      <td>Dorothy</td>\n",
       "      <td>Thomson</td>\n",
       "      <td>Female</td>\n",
       "      <td>34</td>\n",
       "      <td>England</td>\n",
       "      <td>Blue Collar</td>\n",
       "      <td>11.01.2015</td>\n",
       "      <td>42879.84</td>\n",
       "    </tr>\n",
       "    <tr>\n",
       "      <th>7</th>\n",
       "      <td>200000008</td>\n",
       "      <td>Lisa</td>\n",
       "      <td>Knox</td>\n",
       "      <td>Female</td>\n",
       "      <td>48</td>\n",
       "      <td>Scotland</td>\n",
       "      <td>Other</td>\n",
       "      <td>11.01.2015</td>\n",
       "      <td>36680.17</td>\n",
       "    </tr>\n",
       "    <tr>\n",
       "      <th>8</th>\n",
       "      <td>300000009</td>\n",
       "      <td>Ruth</td>\n",
       "      <td>Campbell</td>\n",
       "      <td>Female</td>\n",
       "      <td>33</td>\n",
       "      <td>Wales</td>\n",
       "      <td>White Collar</td>\n",
       "      <td>11.01.2015</td>\n",
       "      <td>74284.35</td>\n",
       "    </tr>\n",
       "    <tr>\n",
       "      <th>9</th>\n",
       "      <td>100000010</td>\n",
       "      <td>Dominic</td>\n",
       "      <td>Parr</td>\n",
       "      <td>Male</td>\n",
       "      <td>42</td>\n",
       "      <td>England</td>\n",
       "      <td>White Collar</td>\n",
       "      <td>12.01.2015</td>\n",
       "      <td>10912.45</td>\n",
       "    </tr>\n",
       "  </tbody>\n",
       "</table>\n",
       "</div>"
      ],
      "text/plain": [
       "   Customer ID     Name   Surname  Gender  Age            Region  \\\n",
       "0    100000001    Simon     Walsh    Male   21           England   \n",
       "1    400000002  Jasmine    Miller  Female   34  Northern Ireland   \n",
       "2    100000003     Liam     Brown    Male   46           England   \n",
       "3    300000004   Trevor      Parr    Male   32             Wales   \n",
       "4    100000005  Deirdre   Pullman  Female   38           England   \n",
       "5    300000006      Ava   Coleman  Female   30             Wales   \n",
       "6    100000007  Dorothy   Thomson  Female   34           England   \n",
       "7    200000008     Lisa      Knox  Female   48          Scotland   \n",
       "8    300000009     Ruth  Campbell  Female   33             Wales   \n",
       "9    100000010  Dominic      Parr    Male   42           England   \n",
       "\n",
       "  Job Classification Date Joined    Balance  \n",
       "0       White Collar  05.01.2015  113810.15  \n",
       "1        Blue Collar  06.01.2015   36919.73  \n",
       "2       White Collar  07.01.2015  101536.83  \n",
       "3       White Collar  08.01.2015    1421.52  \n",
       "4        Blue Collar  09.01.2015   35639.79  \n",
       "5        Blue Collar  09.01.2015  122443.77  \n",
       "6        Blue Collar  11.01.2015   42879.84  \n",
       "7              Other  11.01.2015   36680.17  \n",
       "8       White Collar  11.01.2015   74284.35  \n",
       "9       White Collar  12.01.2015   10912.45  "
      ]
     },
     "execution_count": 4,
     "metadata": {},
     "output_type": "execute_result"
    }
   ],
   "source": [
    "df.head(10)"
   ]
  },
  {
   "cell_type": "markdown",
   "metadata": {},
   "source": [
    "#### Statystyki dla danych numerycznych( średnia, liczba wystąpień...)"
   ]
  },
  {
   "cell_type": "code",
   "execution_count": 5,
   "metadata": {},
   "outputs": [
    {
     "data": {
      "text/html": [
       "<div>\n",
       "<style scoped>\n",
       "    .dataframe tbody tr th:only-of-type {\n",
       "        vertical-align: middle;\n",
       "    }\n",
       "\n",
       "    .dataframe tbody tr th {\n",
       "        vertical-align: top;\n",
       "    }\n",
       "\n",
       "    .dataframe thead th {\n",
       "        text-align: right;\n",
       "    }\n",
       "</style>\n",
       "<table border=\"1\" class=\"dataframe\">\n",
       "  <thead>\n",
       "    <tr style=\"text-align: right;\">\n",
       "      <th></th>\n",
       "      <th>Customer ID</th>\n",
       "      <th>Age</th>\n",
       "      <th>Balance</th>\n",
       "    </tr>\n",
       "  </thead>\n",
       "  <tbody>\n",
       "    <tr>\n",
       "      <th>count</th>\n",
       "      <td>4.012000e+03</td>\n",
       "      <td>4012.000000</td>\n",
       "      <td>4012.000000</td>\n",
       "    </tr>\n",
       "    <tr>\n",
       "      <th>mean</th>\n",
       "      <td>1.696431e+08</td>\n",
       "      <td>38.609422</td>\n",
       "      <td>39778.661697</td>\n",
       "    </tr>\n",
       "    <tr>\n",
       "      <th>std</th>\n",
       "      <td>8.865066e+07</td>\n",
       "      <td>9.819221</td>\n",
       "      <td>29860.033803</td>\n",
       "    </tr>\n",
       "    <tr>\n",
       "      <th>min</th>\n",
       "      <td>1.000000e+08</td>\n",
       "      <td>15.000000</td>\n",
       "      <td>11.520000</td>\n",
       "    </tr>\n",
       "    <tr>\n",
       "      <th>25%</th>\n",
       "      <td>1.000020e+08</td>\n",
       "      <td>31.000000</td>\n",
       "      <td>16123.322500</td>\n",
       "    </tr>\n",
       "    <tr>\n",
       "      <th>50%</th>\n",
       "      <td>1.000038e+08</td>\n",
       "      <td>37.000000</td>\n",
       "      <td>33573.395000</td>\n",
       "    </tr>\n",
       "    <tr>\n",
       "      <th>75%</th>\n",
       "      <td>2.000031e+08</td>\n",
       "      <td>45.000000</td>\n",
       "      <td>57541.655000</td>\n",
       "    </tr>\n",
       "    <tr>\n",
       "      <th>max</th>\n",
       "      <td>4.000038e+08</td>\n",
       "      <td>64.000000</td>\n",
       "      <td>183467.700000</td>\n",
       "    </tr>\n",
       "  </tbody>\n",
       "</table>\n",
       "</div>"
      ],
      "text/plain": [
       "        Customer ID          Age        Balance\n",
       "count  4.012000e+03  4012.000000    4012.000000\n",
       "mean   1.696431e+08    38.609422   39778.661697\n",
       "std    8.865066e+07     9.819221   29860.033803\n",
       "min    1.000000e+08    15.000000      11.520000\n",
       "25%    1.000020e+08    31.000000   16123.322500\n",
       "50%    1.000038e+08    37.000000   33573.395000\n",
       "75%    2.000031e+08    45.000000   57541.655000\n",
       "max    4.000038e+08    64.000000  183467.700000"
      ]
     },
     "execution_count": 5,
     "metadata": {},
     "output_type": "execute_result"
    }
   ],
   "source": [
    "df.describe()"
   ]
  },
  {
   "cell_type": "markdown",
   "metadata": {},
   "source": [
    "#### Liczba wartości brakujących w zbiorze"
   ]
  },
  {
   "cell_type": "code",
   "execution_count": 6,
   "metadata": {},
   "outputs": [
    {
     "data": {
      "text/plain": [
       "Customer ID           0\n",
       "Name                  0\n",
       "Surname               0\n",
       "Gender                0\n",
       "Age                   0\n",
       "Region                0\n",
       "Job Classification    0\n",
       "Date Joined           0\n",
       "Balance               0\n",
       "dtype: int64"
      ]
     },
     "execution_count": 6,
     "metadata": {},
     "output_type": "execute_result"
    }
   ],
   "source": [
    "df.isnull().sum()"
   ]
  },
  {
   "cell_type": "markdown",
   "metadata": {},
   "source": [
    "#### Liczba duplikatów w zbiorze"
   ]
  },
  {
   "cell_type": "code",
   "execution_count": 7,
   "metadata": {},
   "outputs": [],
   "source": [
    "dups = df.duplicated()"
   ]
  },
  {
   "cell_type": "code",
   "execution_count": 8,
   "metadata": {},
   "outputs": [
    {
     "name": "stdout",
     "output_type": "stream",
     "text": [
      "False\n"
     ]
    }
   ],
   "source": [
    "print(dups.any())"
   ]
  },
  {
   "cell_type": "code",
   "execution_count": 9,
   "metadata": {},
   "outputs": [],
   "source": [
    "dups = df['Customer ID'].duplicated()"
   ]
  },
  {
   "cell_type": "code",
   "execution_count": 10,
   "metadata": {},
   "outputs": [
    {
     "name": "stdout",
     "output_type": "stream",
     "text": [
      "False\n"
     ]
    }
   ],
   "source": [
    "print(dups.any())"
   ]
  },
  {
   "cell_type": "markdown",
   "metadata": {},
   "source": [
    "#### Liczba wartości unikalnych w kolumnach"
   ]
  },
  {
   "cell_type": "code",
   "execution_count": 11,
   "metadata": {},
   "outputs": [],
   "source": [
    "counts = df.nunique()"
   ]
  },
  {
   "cell_type": "code",
   "execution_count": 12,
   "metadata": {
    "scrolled": true
   },
   "outputs": [
    {
     "name": "stdout",
     "output_type": "stream",
     "text": [
      "Customer ID           4012\n",
      "Name                   172\n",
      "Surname                150\n",
      "Gender                   2\n",
      "Age                     49\n",
      "Region                   4\n",
      "Job Classification       3\n",
      "Date Joined            307\n",
      "Balance               4010\n",
      "dtype: int64\n"
     ]
    }
   ],
   "source": [
    "print(counts)"
   ]
  },
  {
   "cell_type": "markdown",
   "metadata": {},
   "source": [
    "#### Typy danych w kolumnach"
   ]
  },
  {
   "cell_type": "code",
   "execution_count": 13,
   "metadata": {},
   "outputs": [
    {
     "name": "stdout",
     "output_type": "stream",
     "text": [
      "Customer ID             int64\n",
      "Name                   object\n",
      "Surname                object\n",
      "Gender                 object\n",
      "Age                     int64\n",
      "Region                 object\n",
      "Job Classification     object\n",
      "Date Joined            object\n",
      "Balance               float64\n",
      "dtype: object\n"
     ]
    }
   ],
   "source": [
    "print (df.dtypes)"
   ]
  },
  {
   "cell_type": "markdown",
   "metadata": {},
   "source": [
    "### 2. Czyszczenie danych w razie konieczności oraz dostosowanie formatu danych do późniejszej analizy"
   ]
  },
  {
   "cell_type": "markdown",
   "metadata": {},
   "source": [
    "##### Okazało się, że czyszczenie danych nie jest konieczne, ponieważ jak wynika z wcześniej zaprezentowanych zależności zbiór nie posiada ani duplikatów, ani wartości brakujących. Konieczne jest jednak dostosowanie formatu danych na potrzeby późniejszej analizy."
   ]
  },
  {
   "cell_type": "markdown",
   "metadata": {},
   "source": [
    "#### Zamiana formatu kolumny Data Joined ze string na int, ponieważ w takiej formie będzie można go użyć później przy ML."
   ]
  },
  {
   "cell_type": "code",
   "execution_count": 14,
   "metadata": {},
   "outputs": [],
   "source": [
    "df['Date Joined'] = df['Date Joined'].str.replace(\".\", \"\")"
   ]
  },
  {
   "cell_type": "code",
   "execution_count": 15,
   "metadata": {},
   "outputs": [],
   "source": [
    "df['Date Joined'] = df['Date Joined'].astype('int')"
   ]
  },
  {
   "cell_type": "code",
   "execution_count": 16,
   "metadata": {},
   "outputs": [
    {
     "data": {
      "text/html": [
       "<div>\n",
       "<style scoped>\n",
       "    .dataframe tbody tr th:only-of-type {\n",
       "        vertical-align: middle;\n",
       "    }\n",
       "\n",
       "    .dataframe tbody tr th {\n",
       "        vertical-align: top;\n",
       "    }\n",
       "\n",
       "    .dataframe thead th {\n",
       "        text-align: right;\n",
       "    }\n",
       "</style>\n",
       "<table border=\"1\" class=\"dataframe\">\n",
       "  <thead>\n",
       "    <tr style=\"text-align: right;\">\n",
       "      <th></th>\n",
       "      <th>Customer ID</th>\n",
       "      <th>Name</th>\n",
       "      <th>Surname</th>\n",
       "      <th>Gender</th>\n",
       "      <th>Age</th>\n",
       "      <th>Region</th>\n",
       "      <th>Job Classification</th>\n",
       "      <th>Date Joined</th>\n",
       "      <th>Balance</th>\n",
       "    </tr>\n",
       "  </thead>\n",
       "  <tbody>\n",
       "    <tr>\n",
       "      <th>0</th>\n",
       "      <td>100000001</td>\n",
       "      <td>Simon</td>\n",
       "      <td>Walsh</td>\n",
       "      <td>Male</td>\n",
       "      <td>21</td>\n",
       "      <td>England</td>\n",
       "      <td>White Collar</td>\n",
       "      <td>5012015</td>\n",
       "      <td>113810.15</td>\n",
       "    </tr>\n",
       "    <tr>\n",
       "      <th>1</th>\n",
       "      <td>400000002</td>\n",
       "      <td>Jasmine</td>\n",
       "      <td>Miller</td>\n",
       "      <td>Female</td>\n",
       "      <td>34</td>\n",
       "      <td>Northern Ireland</td>\n",
       "      <td>Blue Collar</td>\n",
       "      <td>6012015</td>\n",
       "      <td>36919.73</td>\n",
       "    </tr>\n",
       "    <tr>\n",
       "      <th>2</th>\n",
       "      <td>100000003</td>\n",
       "      <td>Liam</td>\n",
       "      <td>Brown</td>\n",
       "      <td>Male</td>\n",
       "      <td>46</td>\n",
       "      <td>England</td>\n",
       "      <td>White Collar</td>\n",
       "      <td>7012015</td>\n",
       "      <td>101536.83</td>\n",
       "    </tr>\n",
       "    <tr>\n",
       "      <th>3</th>\n",
       "      <td>300000004</td>\n",
       "      <td>Trevor</td>\n",
       "      <td>Parr</td>\n",
       "      <td>Male</td>\n",
       "      <td>32</td>\n",
       "      <td>Wales</td>\n",
       "      <td>White Collar</td>\n",
       "      <td>8012015</td>\n",
       "      <td>1421.52</td>\n",
       "    </tr>\n",
       "    <tr>\n",
       "      <th>4</th>\n",
       "      <td>100000005</td>\n",
       "      <td>Deirdre</td>\n",
       "      <td>Pullman</td>\n",
       "      <td>Female</td>\n",
       "      <td>38</td>\n",
       "      <td>England</td>\n",
       "      <td>Blue Collar</td>\n",
       "      <td>9012015</td>\n",
       "      <td>35639.79</td>\n",
       "    </tr>\n",
       "  </tbody>\n",
       "</table>\n",
       "</div>"
      ],
      "text/plain": [
       "   Customer ID     Name  Surname  Gender  Age            Region  \\\n",
       "0    100000001    Simon    Walsh    Male   21           England   \n",
       "1    400000002  Jasmine   Miller  Female   34  Northern Ireland   \n",
       "2    100000003     Liam    Brown    Male   46           England   \n",
       "3    300000004   Trevor     Parr    Male   32             Wales   \n",
       "4    100000005  Deirdre  Pullman  Female   38           England   \n",
       "\n",
       "  Job Classification  Date Joined    Balance  \n",
       "0       White Collar      5012015  113810.15  \n",
       "1        Blue Collar      6012015   36919.73  \n",
       "2       White Collar      7012015  101536.83  \n",
       "3       White Collar      8012015    1421.52  \n",
       "4        Blue Collar      9012015   35639.79  "
      ]
     },
     "execution_count": 16,
     "metadata": {},
     "output_type": "execute_result"
    }
   ],
   "source": [
    "df.head()"
   ]
  },
  {
   "cell_type": "code",
   "execution_count": 17,
   "metadata": {},
   "outputs": [
    {
     "name": "stdout",
     "output_type": "stream",
     "text": [
      "Customer ID             int64\n",
      "Name                   object\n",
      "Surname                object\n",
      "Gender                 object\n",
      "Age                     int64\n",
      "Region                 object\n",
      "Job Classification     object\n",
      "Date Joined             int32\n",
      "Balance               float64\n",
      "dtype: object\n"
     ]
    }
   ],
   "source": [
    "print (df.dtypes)"
   ]
  },
  {
   "cell_type": "markdown",
   "metadata": {},
   "source": [
    "#### Transformacja danych nienumerycznych na numeryczne"
   ]
  },
  {
   "cell_type": "markdown",
   "metadata": {},
   "source": [
    "Płeć zostanie zastapiona wartościami 0 lub 1, gdzie wartosć 1 będzie reprezentować mężczyzn, a wartość 0 kobiety"
   ]
  },
  {
   "cell_type": "code",
   "execution_count": 18,
   "metadata": {},
   "outputs": [],
   "source": [
    "df[\"Gender\"] = df[\"Gender\"].replace({\"Male\": \"1\", \"Female\": \"0\"})"
   ]
  },
  {
   "cell_type": "markdown",
   "metadata": {},
   "source": [
    "Region zostanie zastapiony wartościami 0 , 1, 2, 3, gdzie 0 to England, 1 - Northern Ireland, 2 - Wales i 3 - Scotland"
   ]
  },
  {
   "cell_type": "code",
   "execution_count": 19,
   "metadata": {},
   "outputs": [],
   "source": [
    "df[\"Region\"] = df[\"Region\"].replace({\"England\": \"0\", \"Northern Ireland\": \"1\", \"Wales\": \"2\", \"Scotland\": \"3\"})"
   ]
  },
  {
   "cell_type": "markdown",
   "metadata": {},
   "source": [
    "Klasyfikacja pracy zostanie zastapiona wartościami 0 , 1, 2 gdzie 0 to White Collar, 1 - Blue Collar i 2 - Other "
   ]
  },
  {
   "cell_type": "code",
   "execution_count": 20,
   "metadata": {},
   "outputs": [],
   "source": [
    "df[\"Job Classification\"] = df[\"Job Classification\"].replace({\"White Collar\": \"0\", \"Blue Collar\": \"1\", \"Other\": \"2\"})"
   ]
  },
  {
   "cell_type": "markdown",
   "metadata": {},
   "source": [
    "#### Zamiana typu danych"
   ]
  },
  {
   "cell_type": "code",
   "execution_count": 21,
   "metadata": {},
   "outputs": [
    {
     "name": "stdout",
     "output_type": "stream",
     "text": [
      "Customer ID             int64\n",
      "Name                   object\n",
      "Surname                object\n",
      "Gender                 object\n",
      "Age                     int64\n",
      "Region                 object\n",
      "Job Classification     object\n",
      "Date Joined             int32\n",
      "Balance               float64\n",
      "dtype: object\n"
     ]
    }
   ],
   "source": [
    "print (df.dtypes)"
   ]
  },
  {
   "cell_type": "code",
   "execution_count": 22,
   "metadata": {},
   "outputs": [],
   "source": [
    "df['Gender'] = df['Gender'].astype('int')"
   ]
  },
  {
   "cell_type": "code",
   "execution_count": 23,
   "metadata": {},
   "outputs": [],
   "source": [
    "df['Region'] = df['Region'].astype('int')"
   ]
  },
  {
   "cell_type": "code",
   "execution_count": 24,
   "metadata": {},
   "outputs": [],
   "source": [
    "df['Job Classification'] = df['Job Classification'].astype('int')"
   ]
  },
  {
   "cell_type": "code",
   "execution_count": 25,
   "metadata": {},
   "outputs": [
    {
     "name": "stdout",
     "output_type": "stream",
     "text": [
      "Customer ID             int64\n",
      "Name                   object\n",
      "Surname                object\n",
      "Gender                  int32\n",
      "Age                     int64\n",
      "Region                  int32\n",
      "Job Classification      int32\n",
      "Date Joined             int32\n",
      "Balance               float64\n",
      "dtype: object\n"
     ]
    }
   ],
   "source": [
    "print (df.dtypes)"
   ]
  },
  {
   "cell_type": "markdown",
   "metadata": {},
   "source": [
    "#### Ponowne wyświetlenie statystyk oraz pierwszych 10 wierszy"
   ]
  },
  {
   "cell_type": "code",
   "execution_count": 26,
   "metadata": {},
   "outputs": [
    {
     "data": {
      "text/html": [
       "<div>\n",
       "<style scoped>\n",
       "    .dataframe tbody tr th:only-of-type {\n",
       "        vertical-align: middle;\n",
       "    }\n",
       "\n",
       "    .dataframe tbody tr th {\n",
       "        vertical-align: top;\n",
       "    }\n",
       "\n",
       "    .dataframe thead th {\n",
       "        text-align: right;\n",
       "    }\n",
       "</style>\n",
       "<table border=\"1\" class=\"dataframe\">\n",
       "  <thead>\n",
       "    <tr style=\"text-align: right;\">\n",
       "      <th></th>\n",
       "      <th>Customer ID</th>\n",
       "      <th>Gender</th>\n",
       "      <th>Age</th>\n",
       "      <th>Region</th>\n",
       "      <th>Job Classification</th>\n",
       "      <th>Date Joined</th>\n",
       "      <th>Balance</th>\n",
       "    </tr>\n",
       "  </thead>\n",
       "  <tbody>\n",
       "    <tr>\n",
       "      <th>count</th>\n",
       "      <td>4.012000e+03</td>\n",
       "      <td>4012.000000</td>\n",
       "      <td>4012.000000</td>\n",
       "      <td>4012.000000</td>\n",
       "      <td>4012.000000</td>\n",
       "      <td>4.012000e+03</td>\n",
       "      <td>4012.000000</td>\n",
       "    </tr>\n",
       "    <tr>\n",
       "      <th>mean</th>\n",
       "      <td>1.696431e+08</td>\n",
       "      <td>0.539133</td>\n",
       "      <td>38.609422</td>\n",
       "      <td>1.151047</td>\n",
       "      <td>0.764457</td>\n",
       "      <td>1.679633e+07</td>\n",
       "      <td>39778.661697</td>\n",
       "    </tr>\n",
       "    <tr>\n",
       "      <th>std</th>\n",
       "      <td>8.865066e+07</td>\n",
       "      <td>0.498528</td>\n",
       "      <td>9.819221</td>\n",
       "      <td>1.328444</td>\n",
       "      <td>0.826875</td>\n",
       "      <td>8.620018e+06</td>\n",
       "      <td>29860.033803</td>\n",
       "    </tr>\n",
       "    <tr>\n",
       "      <th>min</th>\n",
       "      <td>1.000000e+08</td>\n",
       "      <td>0.000000</td>\n",
       "      <td>15.000000</td>\n",
       "      <td>0.000000</td>\n",
       "      <td>0.000000</td>\n",
       "      <td>1.022015e+06</td>\n",
       "      <td>11.520000</td>\n",
       "    </tr>\n",
       "    <tr>\n",
       "      <th>25%</th>\n",
       "      <td>1.000020e+08</td>\n",
       "      <td>0.000000</td>\n",
       "      <td>31.000000</td>\n",
       "      <td>0.000000</td>\n",
       "      <td>0.000000</td>\n",
       "      <td>1.007202e+07</td>\n",
       "      <td>16123.322500</td>\n",
       "    </tr>\n",
       "    <tr>\n",
       "      <th>50%</th>\n",
       "      <td>1.000038e+08</td>\n",
       "      <td>1.000000</td>\n",
       "      <td>37.000000</td>\n",
       "      <td>0.000000</td>\n",
       "      <td>1.000000</td>\n",
       "      <td>1.707202e+07</td>\n",
       "      <td>33573.395000</td>\n",
       "    </tr>\n",
       "    <tr>\n",
       "      <th>75%</th>\n",
       "      <td>2.000031e+08</td>\n",
       "      <td>1.000000</td>\n",
       "      <td>45.000000</td>\n",
       "      <td>3.000000</td>\n",
       "      <td>2.000000</td>\n",
       "      <td>2.409202e+07</td>\n",
       "      <td>57541.655000</td>\n",
       "    </tr>\n",
       "    <tr>\n",
       "      <th>max</th>\n",
       "      <td>4.000038e+08</td>\n",
       "      <td>1.000000</td>\n",
       "      <td>64.000000</td>\n",
       "      <td>3.000000</td>\n",
       "      <td>2.000000</td>\n",
       "      <td>3.110202e+07</td>\n",
       "      <td>183467.700000</td>\n",
       "    </tr>\n",
       "  </tbody>\n",
       "</table>\n",
       "</div>"
      ],
      "text/plain": [
       "        Customer ID       Gender          Age       Region  \\\n",
       "count  4.012000e+03  4012.000000  4012.000000  4012.000000   \n",
       "mean   1.696431e+08     0.539133    38.609422     1.151047   \n",
       "std    8.865066e+07     0.498528     9.819221     1.328444   \n",
       "min    1.000000e+08     0.000000    15.000000     0.000000   \n",
       "25%    1.000020e+08     0.000000    31.000000     0.000000   \n",
       "50%    1.000038e+08     1.000000    37.000000     0.000000   \n",
       "75%    2.000031e+08     1.000000    45.000000     3.000000   \n",
       "max    4.000038e+08     1.000000    64.000000     3.000000   \n",
       "\n",
       "       Job Classification   Date Joined        Balance  \n",
       "count         4012.000000  4.012000e+03    4012.000000  \n",
       "mean             0.764457  1.679633e+07   39778.661697  \n",
       "std              0.826875  8.620018e+06   29860.033803  \n",
       "min              0.000000  1.022015e+06      11.520000  \n",
       "25%              0.000000  1.007202e+07   16123.322500  \n",
       "50%              1.000000  1.707202e+07   33573.395000  \n",
       "75%              2.000000  2.409202e+07   57541.655000  \n",
       "max              2.000000  3.110202e+07  183467.700000  "
      ]
     },
     "execution_count": 26,
     "metadata": {},
     "output_type": "execute_result"
    }
   ],
   "source": [
    "df.describe()"
   ]
  },
  {
   "cell_type": "code",
   "execution_count": 27,
   "metadata": {},
   "outputs": [
    {
     "data": {
      "text/html": [
       "<div>\n",
       "<style scoped>\n",
       "    .dataframe tbody tr th:only-of-type {\n",
       "        vertical-align: middle;\n",
       "    }\n",
       "\n",
       "    .dataframe tbody tr th {\n",
       "        vertical-align: top;\n",
       "    }\n",
       "\n",
       "    .dataframe thead th {\n",
       "        text-align: right;\n",
       "    }\n",
       "</style>\n",
       "<table border=\"1\" class=\"dataframe\">\n",
       "  <thead>\n",
       "    <tr style=\"text-align: right;\">\n",
       "      <th></th>\n",
       "      <th>Customer ID</th>\n",
       "      <th>Name</th>\n",
       "      <th>Surname</th>\n",
       "      <th>Gender</th>\n",
       "      <th>Age</th>\n",
       "      <th>Region</th>\n",
       "      <th>Job Classification</th>\n",
       "      <th>Date Joined</th>\n",
       "      <th>Balance</th>\n",
       "    </tr>\n",
       "  </thead>\n",
       "  <tbody>\n",
       "    <tr>\n",
       "      <th>0</th>\n",
       "      <td>100000001</td>\n",
       "      <td>Simon</td>\n",
       "      <td>Walsh</td>\n",
       "      <td>1</td>\n",
       "      <td>21</td>\n",
       "      <td>0</td>\n",
       "      <td>0</td>\n",
       "      <td>5012015</td>\n",
       "      <td>113810.15</td>\n",
       "    </tr>\n",
       "    <tr>\n",
       "      <th>1</th>\n",
       "      <td>400000002</td>\n",
       "      <td>Jasmine</td>\n",
       "      <td>Miller</td>\n",
       "      <td>0</td>\n",
       "      <td>34</td>\n",
       "      <td>1</td>\n",
       "      <td>1</td>\n",
       "      <td>6012015</td>\n",
       "      <td>36919.73</td>\n",
       "    </tr>\n",
       "    <tr>\n",
       "      <th>2</th>\n",
       "      <td>100000003</td>\n",
       "      <td>Liam</td>\n",
       "      <td>Brown</td>\n",
       "      <td>1</td>\n",
       "      <td>46</td>\n",
       "      <td>0</td>\n",
       "      <td>0</td>\n",
       "      <td>7012015</td>\n",
       "      <td>101536.83</td>\n",
       "    </tr>\n",
       "    <tr>\n",
       "      <th>3</th>\n",
       "      <td>300000004</td>\n",
       "      <td>Trevor</td>\n",
       "      <td>Parr</td>\n",
       "      <td>1</td>\n",
       "      <td>32</td>\n",
       "      <td>2</td>\n",
       "      <td>0</td>\n",
       "      <td>8012015</td>\n",
       "      <td>1421.52</td>\n",
       "    </tr>\n",
       "    <tr>\n",
       "      <th>4</th>\n",
       "      <td>100000005</td>\n",
       "      <td>Deirdre</td>\n",
       "      <td>Pullman</td>\n",
       "      <td>0</td>\n",
       "      <td>38</td>\n",
       "      <td>0</td>\n",
       "      <td>1</td>\n",
       "      <td>9012015</td>\n",
       "      <td>35639.79</td>\n",
       "    </tr>\n",
       "    <tr>\n",
       "      <th>5</th>\n",
       "      <td>300000006</td>\n",
       "      <td>Ava</td>\n",
       "      <td>Coleman</td>\n",
       "      <td>0</td>\n",
       "      <td>30</td>\n",
       "      <td>2</td>\n",
       "      <td>1</td>\n",
       "      <td>9012015</td>\n",
       "      <td>122443.77</td>\n",
       "    </tr>\n",
       "    <tr>\n",
       "      <th>6</th>\n",
       "      <td>100000007</td>\n",
       "      <td>Dorothy</td>\n",
       "      <td>Thomson</td>\n",
       "      <td>0</td>\n",
       "      <td>34</td>\n",
       "      <td>0</td>\n",
       "      <td>1</td>\n",
       "      <td>11012015</td>\n",
       "      <td>42879.84</td>\n",
       "    </tr>\n",
       "    <tr>\n",
       "      <th>7</th>\n",
       "      <td>200000008</td>\n",
       "      <td>Lisa</td>\n",
       "      <td>Knox</td>\n",
       "      <td>0</td>\n",
       "      <td>48</td>\n",
       "      <td>3</td>\n",
       "      <td>2</td>\n",
       "      <td>11012015</td>\n",
       "      <td>36680.17</td>\n",
       "    </tr>\n",
       "    <tr>\n",
       "      <th>8</th>\n",
       "      <td>300000009</td>\n",
       "      <td>Ruth</td>\n",
       "      <td>Campbell</td>\n",
       "      <td>0</td>\n",
       "      <td>33</td>\n",
       "      <td>2</td>\n",
       "      <td>0</td>\n",
       "      <td>11012015</td>\n",
       "      <td>74284.35</td>\n",
       "    </tr>\n",
       "    <tr>\n",
       "      <th>9</th>\n",
       "      <td>100000010</td>\n",
       "      <td>Dominic</td>\n",
       "      <td>Parr</td>\n",
       "      <td>1</td>\n",
       "      <td>42</td>\n",
       "      <td>0</td>\n",
       "      <td>0</td>\n",
       "      <td>12012015</td>\n",
       "      <td>10912.45</td>\n",
       "    </tr>\n",
       "  </tbody>\n",
       "</table>\n",
       "</div>"
      ],
      "text/plain": [
       "   Customer ID     Name   Surname  Gender  Age  Region  Job Classification  \\\n",
       "0    100000001    Simon     Walsh       1   21       0                   0   \n",
       "1    400000002  Jasmine    Miller       0   34       1                   1   \n",
       "2    100000003     Liam     Brown       1   46       0                   0   \n",
       "3    300000004   Trevor      Parr       1   32       2                   0   \n",
       "4    100000005  Deirdre   Pullman       0   38       0                   1   \n",
       "5    300000006      Ava   Coleman       0   30       2                   1   \n",
       "6    100000007  Dorothy   Thomson       0   34       0                   1   \n",
       "7    200000008     Lisa      Knox       0   48       3                   2   \n",
       "8    300000009     Ruth  Campbell       0   33       2                   0   \n",
       "9    100000010  Dominic      Parr       1   42       0                   0   \n",
       "\n",
       "   Date Joined    Balance  \n",
       "0      5012015  113810.15  \n",
       "1      6012015   36919.73  \n",
       "2      7012015  101536.83  \n",
       "3      8012015    1421.52  \n",
       "4      9012015   35639.79  \n",
       "5      9012015  122443.77  \n",
       "6     11012015   42879.84  \n",
       "7     11012015   36680.17  \n",
       "8     11012015   74284.35  \n",
       "9     12012015   10912.45  "
      ]
     },
     "execution_count": 27,
     "metadata": {},
     "output_type": "execute_result"
    }
   ],
   "source": [
    "df.head(10)"
   ]
  },
  {
   "cell_type": "markdown",
   "metadata": {},
   "source": [
    "### 3. Przedstawienie wykresów dla zbioru danych potrzebnych do późniejszych wizualizacji i uczenia maszynowego"
   ]
  },
  {
   "cell_type": "markdown",
   "metadata": {},
   "source": [
    "Histogram ukazuje rozłożenie wieku klientów banku w UK"
   ]
  },
  {
   "cell_type": "code",
   "execution_count": 28,
   "metadata": {
    "scrolled": true
   },
   "outputs": [
    {
     "data": {
      "image/png": "[encoded data removed]",
      "text/plain": [
       "<Figure size 432x288 with 1 Axes>"
      ]
     },
     "metadata": {},
     "output_type": "display_data"
    }
   ],
   "source": [
    "xlim_min=min(df['Age'])\n",
    "xlim_max=max(df['Age'])\n",
    "bins = [xlim_min,20,25,30,35,40,45,50,55,60,xlim_max]\n",
    "plt.hist(df['Age'], bins = bins)\n",
    "\n",
    "plt.xlim(xlim_min, xlim_max)\n",
    "plt.xticks(bins)\n",
    "plt.show()"
   ]
  },
  {
   "cell_type": "markdown",
   "metadata": {},
   "source": [
    "Histogram ukazujący rozłożenie klientów w różnych regionach UK,  gdzie 0 to England, 1 - Northern Ireland, 2 - Wales i 3 - Scotland"
   ]
  },
  {
   "cell_type": "code",
   "execution_count": 29,
   "metadata": {},
   "outputs": [
    {
     "data": {
      "image/png": "[encoded data removed]",
      "text/plain": [
       "<Figure size 432x288 with 1 Axes>"
      ]
     },
     "metadata": {},
     "output_type": "display_data"
    }
   ],
   "source": [
    "plt.hist(df['Region'], bins = 4)\n",
    "plt.show()"
   ]
  },
  {
   "cell_type": "markdown",
   "metadata": {},
   "source": [
    "Tree map ukazujący udział danej kategorii pracy w danych"
   ]
  },
  {
   "cell_type": "code",
   "execution_count": 30,
   "metadata": {},
   "outputs": [
    {
     "data": {
      "image/png": "[encoded data removed]",
      "text/plain": [
       "<Figure size 432x288 with 1 Axes>"
      ]
     },
     "metadata": {},
     "output_type": "display_data"
    }
   ],
   "source": [
    "tm = pd.DataFrame({'Job Classification':[8,3,4], 'group':[\"White\", \"Other\", \"Blue\"] })\n",
    "squarify.plot(sizes=[8,3,4],  label=tm['group'], color=[\"white\",\"red\",\"blue\"], alpha=.4 )\n",
    "plt.axis('off')\n",
    "plt.show() "
   ]
  },
  {
   "cell_type": "markdown",
   "metadata": {},
   "source": [
    "##### Scatter plots"
   ]
  },
  {
   "cell_type": "markdown",
   "metadata": {},
   "source": [
    "Poniżej przedstawiono wykres punktowy przedstawiający jakie saldo jest najpopularniejsze w jakim wieku"
   ]
  },
  {
   "cell_type": "code",
   "execution_count": 31,
   "metadata": {},
   "outputs": [
    {
     "name": "stderr",
     "output_type": "stream",
     "text": [
      "*c* argument looks like a single numeric RGB or RGBA sequence, which should be avoided as value-mapping will have precedence in case its length matches with *x* & *y*.  Please use the *color* keyword-argument or provide a 2-D array with a single row if you intend to specify the same RGB or RGBA value for all points.\n"
     ]
    },
    {
     "data": {
      "text/plain": [
       "<AxesSubplot:xlabel='Balance', ylabel='Age'>"
      ]
     },
     "execution_count": 31,
     "metadata": {},
     "output_type": "execute_result"
    },
    {
     "data": {
      "image/png": "[encoded data removed]",
      "text/plain": [
       "<Figure size 432x288 with 1 Axes>"
      ]
     },
     "metadata": {},
     "output_type": "display_data"
    }
   ],
   "source": [
    "df.plot.scatter(x = 'Balance', y = 'Age')"
   ]
  },
  {
   "cell_type": "markdown",
   "metadata": {},
   "source": [
    "##### Bubble plot z podziałem na regiony "
   ]
  },
  {
   "cell_type": "markdown",
   "metadata": {},
   "source": [
    "Każdy kolor odpwada innemu regionowi w UK oraz ukazuje w jakim wieku jaki saldo w danym regionie jest najpopularniejsze, gdzie 0 to England, 1 - Northern Ireland, 2 - Wales i 3 - Scotland"
   ]
  },
  {
   "cell_type": "markdown",
   "metadata": {},
   "source": [
    "Kolory zostały wybrane na podstawie flag tych regionów oprócz Połnocnej Irlandii, która ma takie same kolory jak Anglia - England: czerwony , Northern Ireland: pomarańczowy , Wales: zielony , Scotland: niebieski"
   ]
  },
  {
   "cell_type": "code",
   "execution_count": 32,
   "metadata": {},
   "outputs": [
    {
     "data": {
      "image/png": "[encoded data removed]",
      "text/plain": [
       "<Figure size 432x288 with 2 Axes>"
      ]
     },
     "metadata": {},
     "output_type": "display_data"
    }
   ],
   "source": [
    "plt.scatter('Balance', 'Age',\n",
    "             c=df['Region'],\n",
    "             cmap='Spectral',\n",
    "             s=30,\n",
    "             alpha=0.5, \n",
    "             data=df)\n",
    "plt.xlabel(\"Balance\", size=16)\n",
    "plt.ylabel(\"Age\", size=16)\n",
    "plt.title(\"Bubble Plot\", size=18)\n",
    "plt.colorbar()\n",
    "\n",
    "plt.show()"
   ]
  },
  {
   "cell_type": "markdown",
   "metadata": {},
   "source": [
    "Wykres ramkowy pokazujący wiek klientów banku w zależności od regionu UK"
   ]
  },
  {
   "cell_type": "code",
   "execution_count": 33,
   "metadata": {},
   "outputs": [
    {
     "data": {
      "image/png": "[encoded data removed]",
      "text/plain": [
       "<Figure size 432x288 with 1 Axes>"
      ]
     },
     "metadata": {},
     "output_type": "display_data"
    }
   ],
   "source": [
    "sns.boxplot(y='Age', x='Region', \n",
    "                 data=df, \n",
    "                 width=0.5,\n",
    "                 palette=\"Spectral\")\n",
    "plt.title(\"Box plot wiek w zależności od regionu\")\n",
    "plt.suptitle(\"\")\n",
    "plt.xlabel(\"Region\")\n",
    "plt.ylabel(\"Age\")\n",
    "plt.show()"
   ]
  },
  {
   "cell_type": "markdown",
   "metadata": {},
   "source": [
    "### 4. Podział zbioru na dane wejściowe i wyjściowe."
   ]
  },
  {
   "cell_type": "markdown",
   "metadata": {},
   "source": [
    "Na początku usunięmy dane, których nie potrzebujemy czyli imię i nazwisko klienta, ponieważ ten typ danych nie jest przetwarzany podczas predykcji lub nie wnosi do niej żadnych wartościowych informacji"
   ]
  },
  {
   "cell_type": "code",
   "execution_count": 34,
   "metadata": {},
   "outputs": [],
   "source": [
    "df = df.drop(columns=['Name', 'Surname', 'Customer ID'])"
   ]
  },
  {
   "cell_type": "markdown",
   "metadata": {},
   "source": [
    "Daną, którą będziemy przewidywać będzie Region, z którego pochodzi klient, dlatego musimy go usunąć ze zbioru oraz osobno utworzyc zbiór z przewidywaną wartością:"
   ]
  },
  {
   "cell_type": "code",
   "execution_count": 35,
   "metadata": {},
   "outputs": [],
   "source": [
    "X = df.drop(columns=['Region'])\n",
    "y = df['Region']"
   ]
  },
  {
   "cell_type": "markdown",
   "metadata": {},
   "source": [
    "Podział na zbiór treningowy i testowy"
   ]
  },
  {
   "cell_type": "code",
   "execution_count": 36,
   "metadata": {},
   "outputs": [],
   "source": [
    "X_train, X_test, y_train, y_test = train_test_split(X,y, test_size=0.2)"
   ]
  },
  {
   "cell_type": "markdown",
   "metadata": {},
   "source": [
    "### 5. Utworzenie modelu dla algorytmów uczenia maszynowego i określenie dokładności"
   ]
  },
  {
   "cell_type": "markdown",
   "metadata": {},
   "source": [
    "##### Tworzymy model drzewa decyzyjnego"
   ]
  },
  {
   "cell_type": "code",
   "execution_count": 37,
   "metadata": {},
   "outputs": [
    {
     "data": {
      "text/plain": [
       "DecisionTreeClassifier()"
      ]
     },
     "execution_count": 37,
     "metadata": {},
     "output_type": "execute_result"
    }
   ],
   "source": [
    "model = DecisionTreeClassifier()\n",
    "model.fit(X, y)"
   ]
  },
  {
   "attachments": {},
   "cell_type": "markdown",
   "metadata": {},
   "source": [
    "Na podstawie wcześniej usuniętych ze zbioru wierszy sprawdzimy czy model poprawnie przewidzi region\n",
    "\n",
    "200004013\tChristian\tReid\tMale\t51\tScotland-3\tBlue Collar\t30.12.2015\t239.45\n",
    "\n",
    "300004014\tStephen\t     May\tMale\t33\tWales-2\t    Blue Collar\t30.12.2015\t30293.19"
   ]
  },
  {
   "cell_type": "code",
   "execution_count": 38,
   "metadata": {},
   "outputs": [
    {
     "data": {
      "text/plain": [
       "array([3, 3])"
      ]
     },
     "execution_count": 38,
     "metadata": {},
     "output_type": "execute_result"
    }
   ],
   "source": [
    "predictions = model.predict([[1, 51, 1, 30122015,239.45],[1, 33, 1, 30122015, 30293.19]])\n",
    "predictions"
   ]
  },
  {
   "cell_type": "markdown",
   "metadata": {},
   "source": [
    "Jak widzimy w pierwszym przypadku kraj pochodzenia klienta został przewidziany poprawnie, natomiast w drugim przypadku nie, może być to spowodowane małą ilością klientów z Walii, która sprawia, że klient zostaje przydzielony do bzłego regionu"
   ]
  },
  {
   "cell_type": "markdown",
   "metadata": {},
   "source": [
    "Następnie zweryfikujemy dokładność modelu"
   ]
  },
  {
   "cell_type": "code",
   "execution_count": 39,
   "metadata": {},
   "outputs": [
    {
     "data": {
      "text/plain": [
       "0.5965130759651308"
      ]
     },
     "execution_count": 39,
     "metadata": {},
     "output_type": "execute_result"
    }
   ],
   "source": [
    "model = DecisionTreeClassifier()\n",
    "model.fit(X_train, y_train)\n",
    "predictions = model.predict(X_test)\n",
    "score = accuracy_score(y_test, predictions)\n",
    "score"
   ]
  },
  {
   "cell_type": "markdown",
   "metadata": {},
   "source": [
    "Dokładność zmienia się nieznacznie z każdym uruchomieniem kodu, ponieważ są zaciągane inne dane testowe\n",
    "Jak widzimy dokładność modelu wynosi ok.60 % możemy przyjąć, że wiąże się to z małą ilością danych dla niektórych regionów UK, gdzie klienci banku zaczęli się dopiero pojawiać."
   ]
  },
  {
   "cell_type": "markdown",
   "metadata": {},
   "source": [
    "##### Zastosowanie prostej regresji liniowej"
   ]
  },
  {
   "cell_type": "code",
   "execution_count": 40,
   "metadata": {},
   "outputs": [],
   "source": [
    "regressor = LinearRegression()\n",
    "regressor.fit(X_train, y_train)\n",
    "pred = regressor.predict(X_test)"
   ]
  },
  {
   "cell_type": "markdown",
   "metadata": {},
   "source": [
    "Wylicznie średnigo błądu bezwzględnego dla regresji liniowej"
   ]
  },
  {
   "cell_type": "code",
   "execution_count": 41,
   "metadata": {},
   "outputs": [
    {
     "name": "stdout",
     "output_type": "stream",
     "text": [
      "Test Mean Absolute Error     0.8527624581265905\n"
     ]
    }
   ],
   "source": [
    "k = mae(pred, y_test)\n",
    "print('Test Mean Absolute Error    ', k )"
   ]
  },
  {
   "cell_type": "markdown",
   "metadata": {},
   "source": [
    "Średni błąd bezwględny jest bardzo wysoki dla wyliczonej regresji, jeżeli weźmiemy pod uwagę, że wartości Regionów są wartościami co 1!"
   ]
  },
  {
   "cell_type": "markdown",
   "metadata": {},
   "source": [
    "### 6. Wykorzystanie interaktywnych elementów w wizualizacji"
   ]
  },
  {
   "cell_type": "markdown",
   "metadata": {},
   "source": [
    "Histogram wieku klientów banku z regulowanym odstępem"
   ]
  },
  {
   "cell_type": "code",
   "execution_count": 42,
   "metadata": {},
   "outputs": [
    {
     "data": {
      "application/vnd.jupyter.widget-view+json": {
       "model_id": "a562acb93104403a807b29d9bbad9180",
       "version_major": 2,
       "version_minor": 0
      },
      "text/plain": [
       "interactive(children=(IntSlider(value=5, continuous_update=False, description='Podziałka:', max=20, min=5, ste…"
      ]
     },
     "metadata": {},
     "output_type": "display_data"
    },
    {
     "data": {
      "text/plain": [
       "<function __main__.myPlot(c)>"
      ]
     },
     "execution_count": 42,
     "metadata": {},
     "output_type": "execute_result"
    }
   ],
   "source": [
    "def myPlot(c):\n",
    "    bins=range(min(df['Age']), max(df['Age']) + c_slide.value, c_slide.value)\n",
    "    plt.hist(df['Age'], bins)\n",
    "    plt.ylabel('Liczba klientów')\n",
    "    plt.xlabel('Age')\n",
    "    plt.xlim(min(df['Age']), max(df['Age']))\n",
    "    plt.xticks(bins)\n",
    "    \n",
    "      \n",
    "c_slide= widgets.IntSlider(\n",
    "    value=5,\n",
    "    min=5,\n",
    "    max=20,\n",
    "    step=5,\n",
    "    description='Podziałka:',\n",
    "    disabled=False,\n",
    "    continuous_update=False,\n",
    "    orientation='horizontal',\n",
    "    readout=True,\n",
    "    readout_format='d'\n",
    ")\n",
    "widgets.interact(myPlot,c=c_slide)"
   ]
  },
  {
   "cell_type": "markdown",
   "metadata": {},
   "source": [
    "Zamieniamy wartości salda na całkowite, ponieważ liczby po przecinku w tym przypadku nie mają większego znaczenia"
   ]
  },
  {
   "cell_type": "code",
   "execution_count": 43,
   "metadata": {},
   "outputs": [],
   "source": [
    "df['Balance'] = df['Balance'].astype('int')"
   ]
  },
  {
   "cell_type": "markdown",
   "metadata": {},
   "source": [
    "Histogram salda klientów z podziałem na regiony"
   ]
  },
  {
   "cell_type": "code",
   "execution_count": 44,
   "metadata": {},
   "outputs": [
    {
     "data": {
      "application/vnd.jupyter.widget-view+json": {
       "model_id": "db078461fbbb49cd9c5c7d16a421dea9",
       "version_major": 2,
       "version_minor": 0
      },
      "text/plain": [
       "interactive(children=(Dropdown(description='Region:', options=(('England', 0), ('Northern Ireland', 1), ('Wale…"
      ]
     },
     "metadata": {},
     "output_type": "display_data"
    },
    {
     "data": {
      "text/plain": [
       "<function __main__.myPlot2(x)>"
      ]
     },
     "execution_count": 44,
     "metadata": {},
     "output_type": "execute_result"
    }
   ],
   "source": [
    "def myPlot2(x):\n",
    "    \n",
    "    ds = df.loc[df['Region'] == c_dropdown.value]\n",
    "    bins=range(0, max(df['Balance']) + 15000, 15000)   \n",
    "    plt.hist(ds.Balance, bins)\n",
    "                \n",
    "    plt.ylabel('Liczba klientów z danym balansem')\n",
    "    plt.xlabel('Balance')\n",
    "    plt.xlim(0, max(df['Balance']))\n",
    "    plt.xticks(bins)\n",
    "      \n",
    "c_dropdown= widgets.Dropdown(\n",
    "    options=[('England', 0), ('Northern Ireland', 1), ('Wales', 2), ('Scotland', 3)],\n",
    "    value= 0 ,\n",
    "    description='Region:'\n",
    "\n",
    ")\n",
    "widgets.interact(myPlot2,x=c_dropdown)"
   ]
  },
  {
   "cell_type": "markdown",
   "metadata": {},
   "source": [
    "Histogram płci klientów pozwalający na ukrycie nazw osi lub ich pokazanie."
   ]
  },
  {
   "cell_type": "code",
   "execution_count": 45,
   "metadata": {},
   "outputs": [
    {
     "data": {
      "application/vnd.jupyter.widget-view+json": {
       "model_id": "2e8f268834034505aed51e7c1c16c7fc",
       "version_major": 2,
       "version_minor": 0
      },
      "text/plain": [
       "interactive(children=(Checkbox(value=False, description='Pokaż nazwy osi', indent=False), Output()), _dom_clas…"
      ]
     },
     "metadata": {},
     "output_type": "display_data"
    },
    {
     "data": {
      "text/plain": [
       "<function __main__.myPlot3(a)>"
      ]
     },
     "execution_count": 45,
     "metadata": {},
     "output_type": "execute_result"
    }
   ],
   "source": [
    "def myPlot3(a):  \n",
    "    plt.hist(df.Gender)          \n",
    "    if c_checkbox.value == True:\n",
    "        plt.xlabel('Płeć')\n",
    "        plt.ylabel('Liczba klientów')\n",
    "    else:\n",
    "        plt.show()\n",
    "     \n",
    "    \n",
    "c_checkbox =widgets.Checkbox(\n",
    "    value=False,\n",
    "    description='Pokaż nazwy osi',\n",
    "    disabled=False,\n",
    "    indent=False\n",
    "    \n",
    ")\n",
    "widgets.interact(myPlot3,a=c_checkbox)"
   ]
  },
  {
   "cell_type": "markdown",
   "metadata": {},
   "source": [
    "### 7.Storytelling z wizualizacją"
   ]
  },
  {
   "cell_type": "markdown",
   "metadata": {},
   "source": [
    "Jak widać na poniższym wykresie nasz bank posiada klientów w różnych regionach UK, gdzie 0 to England, 1 - Northern Ireland, 2 - Wales i 3 - Scotland"
   ]
  },
  {
   "cell_type": "code",
   "execution_count": 46,
   "metadata": {},
   "outputs": [
    {
     "data": {
      "image/png": "[encoded data removed]",
      "text/plain": [
       "<Figure size 432x288 with 1 Axes>"
      ]
     },
     "metadata": {},
     "output_type": "display_data"
    }
   ],
   "source": [
    "plt.hist(df['Region'], bins = 4)\n",
    "plt.show()"
   ]
  },
  {
   "cell_type": "markdown",
   "metadata": {},
   "source": [
    "Większość klientów jest z Anglii, a następnie ze Szkocji"
   ]
  },
  {
   "cell_type": "markdown",
   "metadata": {},
   "source": [
    "Posiadamy również klientów w Walii, chociaż na razie jest ich poniżej 500"
   ]
  },
  {
   "cell_type": "code",
   "execution_count": 47,
   "metadata": {},
   "outputs": [
    {
     "data": {
      "application/vnd.jupyter.widget-view+json": {
       "model_id": "aa17777b0cba43e797bbb93871a35082",
       "version_major": 2,
       "version_minor": 0
      },
      "text/plain": [
       "interactive(children=(Dropdown(description='Region:', index=2, options=(('England', 0), ('Northern Ireland', 1…"
      ]
     },
     "metadata": {},
     "output_type": "display_data"
    },
    {
     "data": {
      "text/plain": [
       "<function __main__.myPlot4(x)>"
      ]
     },
     "execution_count": 47,
     "metadata": {},
     "output_type": "execute_result"
    }
   ],
   "source": [
    "def myPlot4(x):\n",
    "    \n",
    "    ds = df.loc[df['Region'] == c_dropdown.value]\n",
    "    bins=range(0, max(df['Age']) + 5, 5)   \n",
    "    plt.hist(ds.Age, bins)\n",
    "                \n",
    "    plt.ylabel('Liczba klientów z danym balansem')\n",
    "    plt.xlabel('Age')\n",
    "    plt.xlim(0, max(df['Age']))\n",
    "    plt.xticks(bins)\n",
    "      \n",
    "c_dropdown= widgets.Dropdown(\n",
    "    options=[('England', 0), ('Northern Ireland', 1), ('Wales', 2), ('Scotland', 3)],\n",
    "    value= 2 ,\n",
    "    description='Region:'\n",
    "\n",
    ")\n",
    "widgets.interact(myPlot4,x=c_dropdown)"
   ]
  },
  {
   "cell_type": "markdown",
   "metadata": {},
   "source": [
    "Większość klientów z Wali jest w wieku pomiędzy 30, a 40 lat."
   ]
  },
  {
   "cell_type": "code",
   "execution_count": 48,
   "metadata": {},
   "outputs": [
    {
     "data": {
      "application/vnd.jupyter.widget-view+json": {
       "model_id": "ccb0d97f919c4a04b4cc4a380e862132",
       "version_major": 2,
       "version_minor": 0
      },
      "text/plain": [
       "interactive(children=(Dropdown(description='Region:', index=2, options=(('England', 0), ('Northern Ireland', 1…"
      ]
     },
     "metadata": {},
     "output_type": "display_data"
    },
    {
     "data": {
      "text/plain": [
       "<function __main__.myPlot5(x)>"
      ]
     },
     "execution_count": 48,
     "metadata": {},
     "output_type": "execute_result"
    }
   ],
   "source": [
    "def myPlot5(x):\n",
    "    \n",
    "    ds = df.loc[df['Region'] == c_dropdown.value]\n",
    "    bins=range(0, max(df['Balance']) + 15000, 15000)   \n",
    "    plt.hist(ds.Balance, bins)\n",
    "                \n",
    "    plt.ylabel('Liczba klientów z danym balansem')\n",
    "    plt.xlabel('Balance')\n",
    "    plt.xlim(0, max(df['Balance']))\n",
    "    plt.xticks(bins)\n",
    "      \n",
    "c_dropdown= widgets.Dropdown(\n",
    "    options=[('England', 0), ('Northern Ireland', 1), ('Wales', 2), ('Scotland', 3)],\n",
    "    value= 2 ,\n",
    "    description='Region:'\n",
    "\n",
    ")\n",
    "widgets.interact(myPlot5,x=c_dropdown)"
   ]
  },
  {
   "cell_type": "markdown",
   "metadata": {},
   "source": [
    "A największy odsetek klientów posiada saldo pomiędzy 15 tys, a 25 tys."
   ]
  },
  {
   "cell_type": "markdown",
   "metadata": {},
   "source": [
    "Natomiast zdecydowana większość posiada saldo mniejsze niż 50 tys."
   ]
  },
  {
   "cell_type": "markdown",
   "metadata": {},
   "source": [
    "Następnie możemy porównać jakie zarobki są w różnych grupach pracy u kobiet pracujących w Walii"
   ]
  },
  {
   "cell_type": "code",
   "execution_count": 49,
   "metadata": {},
   "outputs": [
    {
     "data": {
      "application/vnd.jupyter.widget-view+json": {
       "model_id": "66ce3c77c1164f8283d6e46ad028469e",
       "version_major": 2,
       "version_minor": 0
      },
      "text/plain": [
       "interactive(children=(Dropdown(description='Region:', options=(('White Collar', 0), ('Blue Collar', 1), ('Othe…"
      ]
     },
     "metadata": {},
     "output_type": "display_data"
    },
    {
     "data": {
      "text/plain": [
       "<function __main__.myPlot7(x)>"
      ]
     },
     "execution_count": 49,
     "metadata": {},
     "output_type": "execute_result"
    }
   ],
   "source": [
    "def myPlot7(x):\n",
    "    \n",
    "    \n",
    "    ds = df.loc[df['Gender'] == 0]\n",
    "    ds = df.loc[df['Region'] == 2]\n",
    "    ds = df.loc[df['Job Classification'] == c_dropdown.value]\n",
    "    bins=range(0, max(df['Balance']) + 25000, 25000)   \n",
    "    plt.hist(ds.Balance, bins)\n",
    "                \n",
    "    plt.ylabel('Liczba klientów z danym balansem')\n",
    "    plt.xlabel('Balance')\n",
    "    plt.xlim(0, max(df['Balance']))\n",
    "    plt.xticks(bins)\n",
    "      \n",
    "c_dropdown= widgets.Dropdown(\n",
    "    options=[('White Collar', 0), ('Blue Collar', 1), ('Other', 2)],\n",
    "    value= 0 ,\n",
    "    description='Region:'\n",
    "\n",
    ")\n",
    "widgets.interact(myPlot7,x=c_dropdown)"
   ]
  },
  {
   "cell_type": "markdown",
   "metadata": {},
   "source": [
    "Większość kobiecych klientów banku pracuje jako White Collar i w większości zarabiają mniej niż 50 tys."
   ]
  },
  {
   "cell_type": "markdown",
   "metadata": {},
   "source": [
    "Jak widzimy na pozwyższym przykładzie w storytellingu przechodzimy od ogółu do szczegółu w tym przypadku do szczegółowych rozkładów klientek w Walii."
   ]
  },
  {
   "cell_type": "markdown",
   "metadata": {},
   "source": [
    "Historia z adnotacjami jest oczywista i może dostarczyć wystarczających informacji, aby wiedzieć, gdzie firma musi zainwestować, aby skutecznie inwestować w odpowiednim czasie i rozwijać się."
   ]
  }
 ],
 "metadata": {
  "kernelspec": {
   "display_name": "Python 3",
   "language": "python",
   "name": "python3"
  },
  "language_info": {
   "codemirror_mode": {
    "name": "ipython",
    "version": 3
   },
   "file_extension": ".py",
   "mimetype": "text/x-python",
   "name": "python",
   "nbconvert_exporter": "python",
   "pygments_lexer": "ipython3",
   "version": "3.8.5"
  }
 },
 "nbformat": 4,
 "nbformat_minor": 4
}
